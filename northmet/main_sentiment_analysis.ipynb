{
 "cells": [
  {
   "cell_type": "markdown",
   "id": "e89fe0b4",
   "metadata": {},
   "source": [
    "# Classifying responses by sentiment analysis"
   ]
  },
  {
   "cell_type": "markdown",
   "id": "623f86de",
   "metadata": {},
   "source": [
    "### Classifying the data"
   ]
  },
  {
   "cell_type": "code",
   "execution_count": 3,
   "id": "a5246c54",
   "metadata": {},
   "outputs": [
    {
     "name": "stderr",
     "output_type": "stream",
     "text": [
      "Device set to use cpu\n",
      "c:\\Users\\matth\\anaconda3\\envs\\sa-env\\Lib\\site-packages\\transformers\\pipelines\\text_classification.py:106: UserWarning: `return_all_scores` is now deprecated,  if want a similar functionality use `top_k=None` instead of `return_all_scores=True` or `top_k=1` instead of `return_all_scores=False`.\n",
      "  warnings.warn(\n",
      "100%|██████████| 4453/4453 [02:13<00:00, 33.47it/s]\n"
     ]
    },
    {
     "data": {
      "text/html": [
       "<div>\n",
       "<style scoped>\n",
       "    .dataframe tbody tr th:only-of-type {\n",
       "        vertical-align: middle;\n",
       "    }\n",
       "\n",
       "    .dataframe tbody tr th {\n",
       "        vertical-align: top;\n",
       "    }\n",
       "\n",
       "    .dataframe thead th {\n",
       "        text-align: right;\n",
       "    }\n",
       "</style>\n",
       "<table border=\"1\" class=\"dataframe\">\n",
       "  <thead>\n",
       "    <tr style=\"text-align: right;\">\n",
       "      <th></th>\n",
       "      <th>Name of Sender</th>\n",
       "      <th>Comment</th>\n",
       "      <th>Issue</th>\n",
       "      <th>Substantive / Non-Substantive</th>\n",
       "      <th>Old / New</th>\n",
       "      <th>Response ID</th>\n",
       "      <th>RGU Consideration</th>\n",
       "      <th>Sentiment</th>\n",
       "    </tr>\n",
       "  </thead>\n",
       "  <tbody>\n",
       "    <tr>\n",
       "      <th>0</th>\n",
       "      <td>Kathleen Whitson</td>\n",
       "      <td>please not approve mining will profit owners w...</td>\n",
       "      <td>GEN</td>\n",
       "      <td>NS</td>\n",
       "      <td>X</td>\n",
       "      <td>1.0</td>\n",
       "      <td>NaN</td>\n",
       "      <td>-0.996358</td>\n",
       "    </tr>\n",
       "    <tr>\n",
       "      <th>1</th>\n",
       "      <td>Mark</td>\n",
       "      <td>environment will eventually polluted northmet ...</td>\n",
       "      <td>FIN</td>\n",
       "      <td>NS</td>\n",
       "      <td>X</td>\n",
       "      <td>1.0</td>\n",
       "      <td>NaN</td>\n",
       "      <td>-0.997060</td>\n",
       "    </tr>\n",
       "    <tr>\n",
       "      <th>2</th>\n",
       "      <td>Bob Woodbury</td>\n",
       "      <td>there other projects nature successful what de...</td>\n",
       "      <td>PER</td>\n",
       "      <td>NS</td>\n",
       "      <td>X</td>\n",
       "      <td>1.0</td>\n",
       "      <td>NaN</td>\n",
       "      <td>0.293022</td>\n",
       "    </tr>\n",
       "    <tr>\n",
       "      <th>3</th>\n",
       "      <td>Bob Woodbury</td>\n",
       "      <td>could go vein point need rely what “with techn...</td>\n",
       "      <td>PER</td>\n",
       "      <td>NS</td>\n",
       "      <td>X</td>\n",
       "      <td>1.0</td>\n",
       "      <td>NaN</td>\n",
       "      <td>-0.990121</td>\n",
       "    </tr>\n",
       "    <tr>\n",
       "      <th>4</th>\n",
       "      <td>Bob Woodbury</td>\n",
       "      <td>need make decision what not what think</td>\n",
       "      <td>NEPA</td>\n",
       "      <td>NS</td>\n",
       "      <td>X</td>\n",
       "      <td>1.0</td>\n",
       "      <td>NaN</td>\n",
       "      <td>-0.986888</td>\n",
       "    </tr>\n",
       "  </tbody>\n",
       "</table>\n",
       "</div>"
      ],
      "text/plain": [
       "     Name of Sender                                            Comment Issue  \\\n",
       "0  Kathleen Whitson  please not approve mining will profit owners w...   GEN   \n",
       "1              Mark  environment will eventually polluted northmet ...   FIN   \n",
       "2      Bob Woodbury  there other projects nature successful what de...   PER   \n",
       "3      Bob Woodbury  could go vein point need rely what “with techn...   PER   \n",
       "4      Bob Woodbury             need make decision what not what think  NEPA   \n",
       "\n",
       "  Substantive / Non-Substantive Old / New  Response ID RGU Consideration  \\\n",
       "0                            NS         X          1.0               NaN   \n",
       "1                            NS         X          1.0               NaN   \n",
       "2                            NS         X          1.0               NaN   \n",
       "3                            NS         X          1.0               NaN   \n",
       "4                            NS         X          1.0               NaN   \n",
       "\n",
       "   Sentiment  \n",
       "0  -0.996358  \n",
       "1  -0.997060  \n",
       "2   0.293022  \n",
       "3  -0.990121  \n",
       "4  -0.986888  "
      ]
     },
     "execution_count": 3,
     "metadata": {},
     "output_type": "execute_result"
    }
   ],
   "source": [
    "import pandas as pd\n",
    "from transformers import pipeline\n",
    "from tqdm import tqdm\n",
    "tqdm.pandas()\n",
    "df = pd.read_csv('combined_cleaned_responses.csv')\n",
    "\n",
    "classifier = pipeline('sentiment-analysis', model='distilbert-base-uncased-finetuned-sst-2-english', return_all_scores=True)\n",
    "\n",
    "def get_sentiment_score(text):\n",
    "    scores = classifier(str(text), truncation=True)[0]\n",
    "    pos = next(score['score'] for score in scores if score['label'] == 'POSITIVE')\n",
    "    neg = next(score['score'] for score in scores if score['label'] == 'NEGATIVE')\n",
    "    return pos - neg\n",
    "\n",
    "df['Sentiment'] = df.iloc[:, 1].progress_apply(get_sentiment_score)\n",
    "df.head()"
   ]
  },
  {
   "cell_type": "markdown",
   "id": "12ea6b5f",
   "metadata": {},
   "source": [
    "### Plotting it"
   ]
  },
  {
   "cell_type": "code",
   "execution_count": 4,
   "id": "6f90777e",
   "metadata": {},
   "outputs": [
    {
     "data": {
      "image/png": "[encoded data removed]",
      "text/plain": [
       "<Figure size 640x480 with 1 Axes>"
      ]
     },
     "metadata": {},
     "output_type": "display_data"
    }
   ],
   "source": [
    "import matplotlib.pyplot as plt\n",
    "\n",
    "plt.hist(df['Sentiment'], bins=30, edgecolor='black')\n",
    "plt.title('Sentiment Score Distribution')\n",
    "plt.xlabel('Sentiment Score (-1 = negative, 1 = positive)')\n",
    "plt.ylabel('Number of Comments')\n",
    "plt.grid(True)\n",
    "plt.tight_layout()\n",
    "plt.savefig('results/sentiment_distribution.png', dpi=300)\n",
    "plt.show()\n",
    "\n"
   ]
  }
 ],
 "metadata": {
  "kernelspec": {
   "display_name": "sa-env",
   "language": "python",
   "name": "python3"
  },
  "language_info": {
   "codemirror_mode": {
    "name": "ipython",
    "version": 3
   },
   "file_extension": ".py",
   "mimetype": "text/x-python",
   "name": "python",
   "nbconvert_exporter": "python",
   "pygments_lexer": "ipython3",
   "version": "3.13.2"
  }
 },
 "nbformat": 4,
 "nbformat_minor": 5
}
