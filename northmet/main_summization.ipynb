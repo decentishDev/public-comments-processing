{
 "cells": [
  {
   "cell_type": "markdown",
   "id": "5d89bb6b",
   "metadata": {},
   "source": [
    "# Summarizing BERTopic Results"
   ]
  },
  {
   "cell_type": "markdown",
   "id": "0b909717",
   "metadata": {},
   "source": [
    "### Getting topics file"
   ]
  },
  {
   "cell_type": "code",
   "execution_count": 2,
   "id": "64a2f029",
   "metadata": {},
   "outputs": [
    {
     "name": "stdout",
     "output_type": "stream",
     "text": [
      "   Topic  Count                            Name  \\\n",
      "0     -1   1708                -1_the_and_to_of   \n",
      "1      0    306  0_flow_bedrock_groundwater_the   \n",
      "2      1    178    1_land_exchange_forest_lands   \n",
      "3      2    119         2_eis_final_project_the   \n",
      "4      3     98          3_copper_nickel_we_our   \n",
      "\n",
      "                                      Representation  \\\n",
      "0    [the, and, to, of, in, that, is, for, be, this]   \n",
      "1  [flow, bedrock, groundwater, the, model, pit, ...   \n",
      "2  [land, exchange, forest, lands, service, natio...   \n",
      "3  [eis, final, project, the, and, environmental,...   \n",
      "4  [copper, nickel, we, our, mining, and, mine, t...   \n",
      "\n",
      "                                 Representative_Docs  \n",
      "0  [I strongly oppose the PolyMet mine project. T...  \n",
      "1  [Not only had the MDNR allowed the Northshore ...  \n",
      "2  [WE object to the U.S. Forest Service proposal...  \n",
      "3  [This EIS is the culmination of 10 years of st...  \n",
      "4  [I oppose the current PolyMet NorthMet copper-...  \n",
      "Topic                   int64\n",
      "Count                   int64\n",
      "Name                   object\n",
      "Representation         object\n",
      "Representative_Docs    object\n",
      "dtype: object\n"
     ]
    }
   ],
   "source": [
    "import pandas as pd\n",
    "import ast\n",
    "\n",
    "df = pd.read_csv(\"results/bertopic_topic_info.csv\")\n",
    "\n",
    "df['Representation'] = df['Representation'].apply(ast.literal_eval)\n",
    "df['Representative_Docs'] = df['Representative_Docs'].apply(ast.literal_eval)\n",
    "\n",
    "print(df.head())\n",
    "print(df.dtypes)"
   ]
  },
  {
   "cell_type": "markdown",
   "id": "ef3169fe",
   "metadata": {},
   "source": [
    "### Summarizing topics"
   ]
  },
  {
   "cell_type": "code",
   "execution_count": 6,
   "id": "6f01a8dd",
   "metadata": {},
   "outputs": [
    {
     "name": "stdout",
     "output_type": "stream",
     "text": [
      "Starting importing\n"
     ]
    },
    {
     "name": "stderr",
     "output_type": "stream",
     "text": [
      "Device set to use cpu\n"
     ]
    },
    {
     "name": "stdout",
     "output_type": "stream",
     "text": [
      "Finished importing\n"
     ]
    },
    {
     "name": "stderr",
     "output_type": "stream",
     "text": [
      " 56%|█████▌    | 38/68 [02:02<01:41,  3.40s/it]Your max_length is set to 60, but your input_length is only 53. Since this is a summarization task, where outputs shorter than the input are typically wanted, you might consider decreasing max_length manually, e.g. summarizer('...', max_length=26)\n",
      "100%|██████████| 68/68 [03:46<00:00,  3.33s/it]\n"
     ]
    }
   ],
   "source": [
    "from transformers import pipeline\n",
    "from tqdm import tqdm\n",
    "\n",
    "tqdm.pandas()\n",
    "\n",
    "print(\"Starting importing\")\n",
    "summarizer = pipeline(\"summarization\", model=\"sshleifer/distilbart-cnn-12-6\")\n",
    "print(\"Finished importing\")\n",
    "\n",
    "def summarize_docs(docs):\n",
    "    text = \" \".join(docs)[:1024] \n",
    "    return summarizer(text, max_length=60, min_length=20, do_sample=False)[0]['summary_text']\n",
    "\n",
    "df['Summary'] = df['Representative_Docs'].progress_apply(summarize_docs)"
   ]
  },
  {
   "cell_type": "code",
   "execution_count": 7,
   "id": "6bdab32f",
   "metadata": {},
   "outputs": [],
   "source": [
    "df.to_csv(\"results/bertopic_summarized.csv\", index=False)"
   ]
  }
 ],
 "metadata": {
  "kernelspec": {
   "display_name": "summarization-env",
   "language": "python",
   "name": "python3"
  },
  "language_info": {
   "codemirror_mode": {
    "name": "ipython",
    "version": 3
   },
   "file_extension": ".py",
   "mimetype": "text/x-python",
   "name": "python",
   "nbconvert_exporter": "python",
   "pygments_lexer": "ipython3",
   "version": "3.13.3"
  }
 },
 "nbformat": 4,
 "nbformat_minor": 5
}
