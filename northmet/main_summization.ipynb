{
 "cells": [
  {
   "cell_type": "markdown",
   "id": "5d89bb6b",
   "metadata": {},
   "source": [
    "# Summarizing BERTopic Results"
   ]
  },
  {
   "cell_type": "markdown",
   "id": "0b909717",
   "metadata": {},
   "source": [
    "### Getting topics file"
   ]
  },
  {
   "cell_type": "code",
   "execution_count": 3,
   "id": "64a2f029",
   "metadata": {},
   "outputs": [
    {
     "name": "stdout",
     "output_type": "stream",
     "text": [
      "(28,)\n"
     ]
    }
   ],
   "source": [
    "import pandas as pd\n",
    "\n",
    "df = pd.read_csv(\"combined_responses.csv\")\n",
    "df.columns = df.columns.str.strip()\n",
    "grouped_comments = df.groupby(\"Issue\")[\"Comment\"].apply(lambda comments: \" \".join(comments.astype(str)))\n",
    "print(grouped_comments.shape)\n",
    "grouped_comments.head()\n",
    "grouped_comments.to_csv(\"grouped_comments_test.csv\", index=False)"
   ]
  },
  {
   "cell_type": "markdown",
   "id": "ef3169fe",
   "metadata": {},
   "source": [
    "### Summarizing topics"
   ]
  },
  {
   "cell_type": "code",
   "execution_count": 6,
   "id": "6f01a8dd",
   "metadata": {},
   "outputs": [
    {
     "name": "stderr",
     "output_type": "stream",
     "text": [
      "Device set to use cpu\n",
      "Summarizing issues: 6it [00:45,  7.57s/it]Your max_length is set to 142, but your input_length is only 132. Since this is a summarization task, where outputs shorter than the input are typically wanted, you might consider decreasing max_length manually, e.g. summarizer('...', max_length=66)\n",
      "Summarizing issues: 16it [01:56,  7.02s/it]Your max_length is set to 142, but your input_length is only 127. Since this is a summarization task, where outputs shorter than the input are typically wanted, you might consider decreasing max_length manually, e.g. summarizer('...', max_length=63)\n",
      "Summarizing issues: 28it [03:26,  7.38s/it]\n"
     ]
    }
   ],
   "source": [
    "from transformers import pipeline\n",
    "from tqdm import tqdm\n",
    "\n",
    "summarizer = pipeline(\"summarization\", model=\"facebook/bart-large-cnn\")\n",
    "\n",
    "summaries = []\n",
    "counts = df[\"Issue\"].value_counts().to_dict()\n",
    "\n",
    "for issue_id, all_comments in tqdm(grouped_comments.items(), desc=\"Summarizing issues\"):\n",
    "    try:\n",
    "        input_text = all_comments[:4000]\n",
    "        summary = summarizer(input_text, do_sample=False)[0]['summary_text']\n",
    "    except:\n",
    "        summary = \"[Summary Failed]\"\n",
    "    summaries.append((issue_id, counts.get(issue_id, 0), summary))\n",
    "\n",
    "summary_df = pd.DataFrame(summaries, columns=[\"Issue\", \"Count\", \"Summary\"])\n",
    "summary_df = summary_df.sort_values(by=\"Count\", ascending=False)\n",
    "summary_df.to_csv(\"issue_summaries.csv\", index=False)\n"
   ]
  },
  {
   "cell_type": "code",
   "execution_count": 7,
   "id": "6bdab32f",
   "metadata": {},
   "outputs": [],
   "source": [
    "summary_df.to_csv(\"results/issues_summarized.csv\", index=False)"
   ]
  }
 ],
 "metadata": {
  "kernelspec": {
   "display_name": "summarization-env",
   "language": "python",
   "name": "python3"
  },
  "language_info": {
   "codemirror_mode": {
    "name": "ipython",
    "version": 3
   },
   "file_extension": ".py",
   "mimetype": "text/x-python",
   "name": "python",
   "nbconvert_exporter": "python",
   "pygments_lexer": "ipython3",
   "version": "3.13.3"
  }
 },
 "nbformat": 4,
 "nbformat_minor": 5
}
